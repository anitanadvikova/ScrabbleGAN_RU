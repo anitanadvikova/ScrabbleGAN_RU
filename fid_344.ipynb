{
  "nbformat": 4,
  "nbformat_minor": 0,
  "metadata": {
    "colab": {
      "provenance": [],
      "authorship_tag": "ABX9TyPFAmrykZpUyCLQZVujtTmz",
      "include_colab_link": true
    },
    "kernelspec": {
      "name": "python3",
      "display_name": "Python 3"
    },
    "language_info": {
      "name": "python"
    },
    "accelerator": "GPU",
    "gpuClass": "standard"
  },
  "cells": [
    {
      "cell_type": "markdown",
      "metadata": {
        "id": "view-in-github",
        "colab_type": "text"
      },
      "source": [
        "<a href=\"https://colab.research.google.com/github/anitanadvikova/ScrabbleGAN_RU/blob/main/fid_344.ipynb\" target=\"_parent\"><img src=\"https://colab.research.google.com/assets/colab-badge.svg\" alt=\"Open In Colab\"/></a>"
      ]
    },
    {
      "cell_type": "code",
      "execution_count": 1,
      "metadata": {
        "colab": {
          "base_uri": "https://localhost:8080/"
        },
        "id": "8dhn5HWPSDIm",
        "outputId": "cf9acd43-df62-439a-803c-dab01e170fb6"
      },
      "outputs": [
        {
          "output_type": "stream",
          "name": "stdout",
          "text": [
            "Cloning into 'ScrabbleGAN'...\n",
            "remote: Enumerating objects: 145, done.\u001b[K\n",
            "remote: Counting objects: 100% (44/44), done.\u001b[K\n",
            "remote: Compressing objects: 100% (24/24), done.\u001b[K\n",
            "remote: Total 145 (delta 30), reused 20 (delta 20), pack-reused 101\u001b[K\n",
            "Receiving objects: 100% (145/145), 194.51 KiB | 3.19 MiB/s, done.\n",
            "Resolving deltas: 100% (59/59), done.\n"
          ]
        }
      ],
      "source": [
        "!git clone https://github.com/anitanadvikova/ScrabbleGAN.git"
      ]
    },
    {
      "cell_type": "code",
      "source": [
        "from google.colab import drive\n",
        "drive.mount('/content/drive')"
      ],
      "metadata": {
        "colab": {
          "base_uri": "https://localhost:8080/"
        },
        "id": "ohqnZQELSIuj",
        "outputId": "bb8c6d5b-6f1d-40b6-f88c-b13718282fb0"
      },
      "execution_count": 2,
      "outputs": [
        {
          "output_type": "stream",
          "name": "stdout",
          "text": [
            "Mounted at /content/drive\n"
          ]
        }
      ]
    },
    {
      "cell_type": "code",
      "source": [
        "%cd ScrabbleGAN/data"
      ],
      "metadata": {
        "colab": {
          "base_uri": "https://localhost:8080/"
        },
        "id": "C_BMuvOzYIOe",
        "outputId": "a1d91311-b895-4258-d7d7-6400a8ed5cdb"
      },
      "execution_count": 3,
      "outputs": [
        {
          "output_type": "stream",
          "name": "stdout",
          "text": [
            "/content/ScrabbleGAN/data\n"
          ]
        }
      ]
    },
    {
      "cell_type": "code",
      "source": [
        "#!unzip /content/drive/MyDrive/RIMES.zip"
      ],
      "metadata": {
        "id": "-KUR661Ctml5"
      },
      "execution_count": 72,
      "outputs": []
    },
    {
      "cell_type": "code",
      "source": [
        "!python prepare_data.py"
      ],
      "metadata": {
        "colab": {
          "base_uri": "https://localhost:8080/"
        },
        "id": "e_8KV4lZuy68",
        "outputId": "3585ff06-dd36-4fe7-b366-5577cb18310e"
      },
      "execution_count": 7,
      "outputs": [
        {
          "output_type": "stream",
          "name": "stdout",
          "text": [
            "Processing Data:\n",
            "\n",
            "Number of images = 17913\n",
            "Number of unique characters = 108\n",
            "\n",
            "Data processing completed\n"
          ]
        }
      ]
    },
    {
      "cell_type": "code",
      "source": [
        "%cd .."
      ],
      "metadata": {
        "colab": {
          "base_uri": "https://localhost:8080/"
        },
        "id": "3PrHrhInZQx-",
        "outputId": "a23e3128-9f62-4108-9b05-47afe9224a34"
      },
      "execution_count": null,
      "outputs": [
        {
          "output_type": "stream",
          "name": "stdout",
          "text": [
            "/content/ScrabbleGAN\n"
          ]
        }
      ]
    },
    {
      "cell_type": "code",
      "source": [
        "#%rm -rf fid_calc"
      ],
      "metadata": {
        "id": "pIu9cwC-ZqKU"
      },
      "execution_count": null,
      "outputs": []
    },
    {
      "cell_type": "code",
      "source": [
        "!bash  python calculate_metrics.py -c '/content/ScrabbleGAN/weights/model_checkpoint_epoch_1.pth.tar' "
      ],
      "metadata": {
        "colab": {
          "base_uri": "https://localhost:8080/"
        },
        "id": "qk6sU4XTuN6U",
        "outputId": "a22445dd-cf5f-46fc-fe5b-5654f16947a6"
      },
      "execution_count": null,
      "outputs": [
        {
          "output_type": "stream",
          "name": "stdout",
          "text": [
            "Generating and saving fake images\n",
            "Model: ScrabbleGAN\n",
            "Param count for Gs initialized parameters: 30869377\n",
            "Param count for Ds initialized parameters: 36398401\n",
            "Traceback (most recent call last):\n",
            "  File \"/content/ScrabbleGAN/calculate_metrics.py\", line 77, in <module>\n",
            "    calculate_fid(checkpoint_path, num_imgs)\n",
            "  File \"/content/ScrabbleGAN/calculate_metrics.py\", line 40, in calculate_fid\n",
            "    generator = ImgGenerator(checkpt_path=checkpt_path, config=config)\n",
            "  File \"/content/ScrabbleGAN/generate_images.py\", line 40, in __init__\n",
            "    self.model, _, _, _ = self.model_checkpoint.load(self.model, epoch=None, checkpoint_path=checkpt_path)\n",
            "  File \"/content/ScrabbleGAN/utils/training_utils.py\", line 36, in load\n",
            "    checkpoint = torch.load(load_filename, map_location=self.config.device)\n",
            "  File \"/usr/local/lib/python3.9/dist-packages/torch/serialization.py\", line 777, in load\n",
            "    with _open_zipfile_reader(opened_file) as opened_zipfile:\n",
            "  File \"/usr/local/lib/python3.9/dist-packages/torch/serialization.py\", line 282, in __init__\n",
            "    super(_open_zipfile_reader, self).__init__(torch._C.PyTorchFileReader(name_or_buffer))\n",
            "RuntimeError: PytorchStreamReader failed reading zip archive: failed finding central directory\n"
          ]
        }
      ]
    },
    {
      "cell_type": "code",
      "source": [
        "!python -m pytorch_fid '/content/ScrabbleGAN/fid_calc/real' '/content/ScrabbleGAN/fid_calc/fake'"
      ],
      "metadata": {
        "colab": {
          "base_uri": "https://localhost:8080/"
        },
        "id": "NFRFlrXhNKjv",
        "outputId": "cb30403d-f042-492f-ac56-f89dd56d0eef"
      },
      "execution_count": null,
      "outputs": [
        {
          "output_type": "stream",
          "name": "stdout",
          "text": [
            "/usr/bin/python3: No module named pytorch_fid\n"
          ]
        }
      ]
    },
    {
      "cell_type": "code",
      "source": [
        "#!tar -xf /content/ScrabbleGAN/weights/model_checkpoint_epoch_1.pth.tar"
      ],
      "metadata": {
        "colab": {
          "base_uri": "https://localhost:8080/"
        },
        "id": "DOVaUn-ldFyg",
        "outputId": "4b1c8cdb-574c-4fa0-87a9-c52c4009a85d"
      },
      "execution_count": null,
      "outputs": [
        {
          "output_type": "stream",
          "name": "stdout",
          "text": [
            "tar: This does not look like a tar archive\n",
            "tar: Skipping to next header\n",
            "tar: Exiting with failure status due to previous errors\n"
          ]
        }
      ]
    },
    {
      "cell_type": "code",
      "source": [
        "import torch"
      ],
      "metadata": {
        "id": "UV4FyBmJeJZQ"
      },
      "execution_count": null,
      "outputs": []
    },
    {
      "cell_type": "code",
      "source": [
        "torch.load('/content/ScrabbleGAN/weights/model_checkpoint_epoch_344.pth.tar')"
      ],
      "metadata": {
        "colab": {
          "base_uri": "https://localhost:8080/",
          "height": 445
        },
        "id": "NjN1yspPecFy",
        "outputId": "7cba770c-c417-4a96-8657-d678e400af7e"
      },
      "execution_count": null,
      "outputs": [
        {
          "output_type": "error",
          "ename": "RuntimeError",
          "evalue": "ignored",
          "traceback": [
            "\u001b[0;31m---------------------------------------------------------------------------\u001b[0m",
            "\u001b[0;31mRuntimeError\u001b[0m                              Traceback (most recent call last)",
            "\u001b[0;32m<ipython-input-18-9fbad23e7661>\u001b[0m in \u001b[0;36m<module>\u001b[0;34m\u001b[0m\n\u001b[0;32m----> 1\u001b[0;31m \u001b[0mtorch\u001b[0m\u001b[0;34m.\u001b[0m\u001b[0mload\u001b[0m\u001b[0;34m(\u001b[0m\u001b[0;34m'/content/ScrabbleGAN/weights/model_checkpoint_epoch_344.pth.tar'\u001b[0m\u001b[0;34m)\u001b[0m\u001b[0;34m\u001b[0m\u001b[0;34m\u001b[0m\u001b[0m\n\u001b[0m",
            "\u001b[0;32m/usr/local/lib/python3.9/dist-packages/torch/serialization.py\u001b[0m in \u001b[0;36mload\u001b[0;34m(f, map_location, pickle_module, weights_only, **pickle_load_args)\u001b[0m\n\u001b[1;32m    775\u001b[0m             \u001b[0;31m# reset back to the original position.\u001b[0m\u001b[0;34m\u001b[0m\u001b[0;34m\u001b[0m\u001b[0m\n\u001b[1;32m    776\u001b[0m             \u001b[0morig_position\u001b[0m \u001b[0;34m=\u001b[0m \u001b[0mopened_file\u001b[0m\u001b[0;34m.\u001b[0m\u001b[0mtell\u001b[0m\u001b[0;34m(\u001b[0m\u001b[0;34m)\u001b[0m\u001b[0;34m\u001b[0m\u001b[0;34m\u001b[0m\u001b[0m\n\u001b[0;32m--> 777\u001b[0;31m             \u001b[0;32mwith\u001b[0m \u001b[0m_open_zipfile_reader\u001b[0m\u001b[0;34m(\u001b[0m\u001b[0mopened_file\u001b[0m\u001b[0;34m)\u001b[0m \u001b[0;32mas\u001b[0m \u001b[0mopened_zipfile\u001b[0m\u001b[0;34m:\u001b[0m\u001b[0;34m\u001b[0m\u001b[0;34m\u001b[0m\u001b[0m\n\u001b[0m\u001b[1;32m    778\u001b[0m                 \u001b[0;32mif\u001b[0m \u001b[0m_is_torchscript_zip\u001b[0m\u001b[0;34m(\u001b[0m\u001b[0mopened_zipfile\u001b[0m\u001b[0;34m)\u001b[0m\u001b[0;34m:\u001b[0m\u001b[0;34m\u001b[0m\u001b[0;34m\u001b[0m\u001b[0m\n\u001b[1;32m    779\u001b[0m                     warnings.warn(\"'torch.load' received a zip file that looks like a TorchScript archive\"\n",
            "\u001b[0;32m/usr/local/lib/python3.9/dist-packages/torch/serialization.py\u001b[0m in \u001b[0;36m__init__\u001b[0;34m(self, name_or_buffer)\u001b[0m\n\u001b[1;32m    280\u001b[0m \u001b[0;32mclass\u001b[0m \u001b[0m_open_zipfile_reader\u001b[0m\u001b[0;34m(\u001b[0m\u001b[0m_opener\u001b[0m\u001b[0;34m)\u001b[0m\u001b[0;34m:\u001b[0m\u001b[0;34m\u001b[0m\u001b[0;34m\u001b[0m\u001b[0m\n\u001b[1;32m    281\u001b[0m     \u001b[0;32mdef\u001b[0m \u001b[0m__init__\u001b[0m\u001b[0;34m(\u001b[0m\u001b[0mself\u001b[0m\u001b[0;34m,\u001b[0m \u001b[0mname_or_buffer\u001b[0m\u001b[0;34m)\u001b[0m \u001b[0;34m->\u001b[0m \u001b[0;32mNone\u001b[0m\u001b[0;34m:\u001b[0m\u001b[0;34m\u001b[0m\u001b[0;34m\u001b[0m\u001b[0m\n\u001b[0;32m--> 282\u001b[0;31m         \u001b[0msuper\u001b[0m\u001b[0;34m(\u001b[0m\u001b[0m_open_zipfile_reader\u001b[0m\u001b[0;34m,\u001b[0m \u001b[0mself\u001b[0m\u001b[0;34m)\u001b[0m\u001b[0;34m.\u001b[0m\u001b[0m__init__\u001b[0m\u001b[0;34m(\u001b[0m\u001b[0mtorch\u001b[0m\u001b[0;34m.\u001b[0m\u001b[0m_C\u001b[0m\u001b[0;34m.\u001b[0m\u001b[0mPyTorchFileReader\u001b[0m\u001b[0;34m(\u001b[0m\u001b[0mname_or_buffer\u001b[0m\u001b[0;34m)\u001b[0m\u001b[0;34m)\u001b[0m\u001b[0;34m\u001b[0m\u001b[0;34m\u001b[0m\u001b[0m\n\u001b[0m\u001b[1;32m    283\u001b[0m \u001b[0;34m\u001b[0m\u001b[0m\n\u001b[1;32m    284\u001b[0m \u001b[0;34m\u001b[0m\u001b[0m\n",
            "\u001b[0;31mRuntimeError\u001b[0m: PytorchStreamReader failed reading zip archive: failed finding central directory"
          ]
        }
      ]
    },
    {
      "cell_type": "code",
      "source": [
        "#!pip install pytorch_fid"
      ],
      "metadata": {
        "id": "JC7lhPcO0sKI"
      },
      "execution_count": 71,
      "outputs": []
    },
    {
      "cell_type": "code",
      "source": [
        "import cv2"
      ],
      "metadata": {
        "id": "0IOfh-J00f2q"
      },
      "execution_count": 11,
      "outputs": []
    },
    {
      "cell_type": "code",
      "source": [
        "r = cv2.imread('/content/ScrabbleGAN/data/RIMES/validation/test1.png')"
      ],
      "metadata": {
        "id": "UGdh8uwI24EV"
      },
      "execution_count": 17,
      "outputs": []
    },
    {
      "cell_type": "code",
      "source": [
        "r.shape"
      ],
      "metadata": {
        "colab": {
          "base_uri": "https://localhost:8080/"
        },
        "id": "BHzXlUB63JOX",
        "outputId": "18c80424-32d4-4d59-d414-1a2955a7ca99"
      },
      "execution_count": 16,
      "outputs": [
        {
          "output_type": "execute_result",
          "data": {
            "text/plain": [
              "(50, 88, 3)"
            ]
          },
          "metadata": {},
          "execution_count": 16
        }
      ]
    },
    {
      "cell_type": "code",
      "source": [
        "r.shape"
      ],
      "metadata": {
        "colab": {
          "base_uri": "https://localhost:8080/"
        },
        "id": "BkgM-qAu3L8p",
        "outputId": "0754e2df-84b1-4e73-c0f5-41f2602ec2fd"
      },
      "execution_count": 18,
      "outputs": [
        {
          "output_type": "execute_result",
          "data": {
            "text/plain": [
              "(46, 158, 3)"
            ]
          },
          "metadata": {},
          "execution_count": 18
        }
      ]
    },
    {
      "cell_type": "code",
      "source": [
        "def calculate_fid(checkpt_path, num_images=25000):\n",
        "    \"\"\"\n",
        "    :param checkpt_path: Path of the model checkpoint file to be used\n",
        "    :param num_images: Number of images from real and fake images to be taken for consideration\n",
        "    :return: fid score\n",
        "    \"\"\"\n",
        "    config = Config\n",
        "    path = './fid_calc/'\n",
        "    fake_path = path + '/fake/'\n",
        "    real_path = path + '/real/'\n",
        "    # Create directories for saving fake and real images\n",
        "    os.makedirs(fake_path, exist_ok=True)\n",
        "    os.makedirs(real_path, exist_ok=True)\n",
        "\n",
        "    # fake images\n",
        "    print('Generating and saving fake images')\n",
        "    generator = ImgGenerator(checkpt_path=checkpt_path, config=config)\n",
        "\n",
        "    # save these fake images\n",
        "    for idx, img in enumerate(tqdm(range(num_images))):\n",
        "        img, _, word_labels = generator.generate(1)\n",
        "        img = img_resize(img[0]*255)\n",
        "        img = Image.fromarray(img).convert(\"RGB\")\n",
        "        img.save(f'{fake_path}/{idx}.png')\n",
        "\n",
        "    # real images\n",
        "    print('Sampling and saving real images')\n",
        "    dataset = CustomDataset(config)\n",
        "    # choose random images\n",
        "    imgs_idx = np.random.choice(len(dataset), num_images)\n",
        "    for idx, img_idx in enumerate(tqdm(imgs_idx)):\n",
        "        w_id = dataset.idx_to_id[img_idx]\n",
        "        # Get image\n",
        "        _, img = dataset.word_data[w_id]\n",
        "        img = img_resize(img)\n",
        "        img = Image.fromarray(img).convert(\"RGB\")\n",
        "        img.save(f'{real_path}/{idx}.png')\n",
        "\n",
        "    # calculate fid\n",
        "    os.system(f'python -m pytorch_fid {real_path} {fake_path}')"
      ],
      "metadata": {
        "id": "phwelQkh3VbM"
      },
      "execution_count": null,
      "outputs": []
    },
    {
      "cell_type": "code",
      "source": [
        "import glob"
      ],
      "metadata": {
        "id": "tQgBvaye4L82"
      },
      "execution_count": 19,
      "outputs": []
    },
    {
      "cell_type": "code",
      "source": [
        "!rm -rf temp_fake"
      ],
      "metadata": {
        "id": "ZysOQVEm6pVS"
      },
      "execution_count": 64,
      "outputs": []
    },
    {
      "cell_type": "code",
      "source": [
        "!mkdir temp_fake"
      ],
      "metadata": {
        "id": "ReoWGyHn4Oz6"
      },
      "execution_count": 65,
      "outputs": []
    },
    {
      "cell_type": "code",
      "source": [
        "!rm -rf temp_real"
      ],
      "metadata": {
        "id": "7PxP_pTB6sA4"
      },
      "execution_count": 66,
      "outputs": []
    },
    {
      "cell_type": "code",
      "source": [
        "!mkdir temp_real"
      ],
      "metadata": {
        "id": "BIg3ATpR4SYz"
      },
      "execution_count": 67,
      "outputs": []
    },
    {
      "cell_type": "code",
      "source": [
        "images_fake = glob.glob('/content/drive/MyDrive/cyr_val/*')"
      ],
      "metadata": {
        "id": "zlyBVsdO4XhO"
      },
      "execution_count": 23,
      "outputs": []
    },
    {
      "cell_type": "code",
      "source": [
        "fake_path = 'temp_fake'"
      ],
      "metadata": {
        "id": "XMBVJ2zY41fs"
      },
      "execution_count": 24,
      "outputs": []
    },
    {
      "cell_type": "code",
      "source": [
        "import tqdm"
      ],
      "metadata": {
        "id": "4ZUXypI445NE"
      },
      "execution_count": 26,
      "outputs": []
    },
    {
      "cell_type": "code",
      "source": [
        "import numpy as np"
      ],
      "metadata": {
        "id": "wfEzsBvL5Ot-"
      },
      "execution_count": 32,
      "outputs": []
    },
    {
      "cell_type": "code",
      "source": [
        "import cv2"
      ],
      "metadata": {
        "id": "785IMJsv4-wG"
      },
      "execution_count": 35,
      "outputs": []
    },
    {
      "cell_type": "code",
      "source": [
        "from PIL import Image"
      ],
      "metadata": {
        "id": "lpr6L7555i8g"
      },
      "execution_count": 37,
      "outputs": []
    },
    {
      "cell_type": "code",
      "source": [
        "for idx, img in enumerate(tqdm.tqdm(images_fake)):\n",
        "  img = Image.open(img).convert(\"RGB\").convert('L')\n",
        "  img = img.resize((512,128))\n",
        "  img.save(f'{fake_path}/{idx}.png')"
      ],
      "metadata": {
        "colab": {
          "base_uri": "https://localhost:8080/"
        },
        "id": "8jQC9XUZ4JZp",
        "outputId": "46989014-6280-4924-928c-52d066233846"
      },
      "execution_count": 68,
      "outputs": [
        {
          "output_type": "stream",
          "name": "stderr",
          "text": [
            "100%|██████████| 1544/1544 [05:08<00:00,  5.00it/s]\n"
          ]
        }
      ]
    },
    {
      "cell_type": "code",
      "source": [
        "images_real = glob.glob('/content/ScrabbleGAN/data/RIMES/validation/*')"
      ],
      "metadata": {
        "id": "2EqgFNBX5teL"
      },
      "execution_count": 39,
      "outputs": []
    },
    {
      "cell_type": "code",
      "source": [
        "real_path = 'temp_real'"
      ],
      "metadata": {
        "id": "Pc-rjcU050Av"
      },
      "execution_count": 40,
      "outputs": []
    },
    {
      "cell_type": "code",
      "source": [
        "for idx, img in enumerate(tqdm.tqdm(images_real)):\n",
        "  img = Image.open(img).convert(\"RGB\").convert('L')\n",
        "  img = img.resize((512,128))\n",
        "  img.save(f'{real_path}/{idx}.png')"
      ],
      "metadata": {
        "colab": {
          "base_uri": "https://localhost:8080/"
        },
        "id": "7zWpE7XB431Q",
        "outputId": "b6b35b17-31a2-425a-e53d-ef877631d139"
      },
      "execution_count": 69,
      "outputs": [
        {
          "output_type": "stream",
          "name": "stderr",
          "text": [
            "100%|██████████| 1544/1544 [00:15<00:00, 98.29it/s]\n"
          ]
        }
      ]
    },
    {
      "cell_type": "code",
      "source": [
        "!python -m pytorch_fid 'temp_real' 'temp_fake'"
      ],
      "metadata": {
        "colab": {
          "base_uri": "https://localhost:8080/"
        },
        "id": "EO1GYiu-6DgH",
        "outputId": "37a85144-848b-4d95-9be2-7abf1d784834"
      },
      "execution_count": 70,
      "outputs": [
        {
          "output_type": "stream",
          "name": "stdout",
          "text": [
            "100% 31/31 [09:47<00:00, 18.96s/it]\n",
            "100% 31/31 [09:55<00:00, 19.20s/it]\n",
            "FID:  132.2877503050995\n"
          ]
        }
      ]
    },
    {
      "cell_type": "code",
      "source": [],
      "metadata": {
        "id": "OnMnwDWE8Z6Y"
      },
      "execution_count": null,
      "outputs": []
    }
  ]
}